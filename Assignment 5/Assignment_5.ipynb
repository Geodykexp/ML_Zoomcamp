{
 "cells": [
  {
   "cell_type": "code",
   "execution_count": 29,
   "id": "cad5ccd8-9e96-4cbf-bed3-fe1038a55ec5",
   "metadata": {},
   "outputs": [],
   "source": [
    "import numpy as np\n",
    "import pandas as pd\n",
    "import uv\n",
    "import sklearn as sk"
   ]
  },
  {
   "cell_type": "code",
   "execution_count": null,
   "id": "c6c3aeec-1721-45e0-9179-fd3c8b722571",
   "metadata": {},
   "outputs": [],
   "source": []
  },
  {
   "cell_type": "markdown",
   "id": "4ad37d97-2289-4603-a37e-9531a6919b7c",
   "metadata": {},
   "source": [
    "# Load the file"
   ]
  },
  {
   "cell_type": "code",
   "execution_count": 30,
   "id": "d9897795-57fb-4384-97c8-e5f3f6734254",
   "metadata": {},
   "outputs": [],
   "source": [
    "import pickle"
   ]
  },
  {
   "cell_type": "code",
   "execution_count": 31,
   "id": "375dd26e-cab8-4332-9edb-156e1f48ac11",
   "metadata": {},
   "outputs": [],
   "source": [
    "model_file = 'pipeline_v1.bin'"
   ]
  },
  {
   "cell_type": "code",
   "execution_count": 32,
   "id": "d0fa3c71-8aee-4fd2-9de7-d7f31c00627d",
   "metadata": {},
   "outputs": [],
   "source": [
    "with open(model_file, 'rb') as f_in:\n",
    "    dv,model = pickle.load(f_in)"
   ]
  },
  {
   "cell_type": "code",
   "execution_count": 33,
   "id": "263132e3-b7bf-4caa-ba47-dfb69334fba7",
   "metadata": {},
   "outputs": [
    {
     "data": {
      "text/plain": [
       "(DictVectorizer(), LogisticRegression(solver='liblinear'))"
      ]
     },
     "execution_count": 33,
     "metadata": {},
     "output_type": "execute_result"
    }
   ],
   "source": [
    "dv, model"
   ]
  },
  {
   "cell_type": "code",
   "execution_count": 34,
   "id": "4f45c1d1-d09d-4ed6-a8d6-5b9795663796",
   "metadata": {},
   "outputs": [],
   "source": [
    "record = {\n",
    "    \"lead_source\": \"paid_ads\",\n",
    "    \"number_of_courses_viewed\": 2,\n",
    "    \"annual_income\": 79276.0\n",
    "}"
   ]
  },
  {
   "cell_type": "code",
   "execution_count": 35,
   "id": "02292323-0aef-4829-955f-a6eb5a3a93bc",
   "metadata": {},
   "outputs": [],
   "source": [
    "X = dv.transform([record])"
   ]
  },
  {
   "cell_type": "code",
   "execution_count": 36,
   "id": "90eb611e-dcdb-4b2a-ab1d-777aa5ccd250",
   "metadata": {},
   "outputs": [
    {
     "data": {
      "text/plain": [
       "np.float64(0.5336072702798061)"
      ]
     },
     "execution_count": 36,
     "metadata": {},
     "output_type": "execute_result"
    }
   ],
   "source": [
    "model.predict_proba(X)[0,1]"
   ]
  },
  {
   "cell_type": "code",
   "execution_count": null,
   "id": "aae3b5a3-ffce-4fd7-b654-3eed60bd6609",
   "metadata": {},
   "outputs": [],
   "source": []
  },
  {
   "cell_type": "code",
   "execution_count": null,
   "id": "b9007dfb-5b82-4b6d-9f0c-1357444dbb2b",
   "metadata": {},
   "outputs": [],
   "source": []
  }
 ],
 "metadata": {
  "kernelspec": {
   "display_name": "Python 3 (ipykernel)",
   "language": "python",
   "name": "python3"
  },
  "language_info": {
   "codemirror_mode": {
    "name": "ipython",
    "version": 3
   },
   "file_extension": ".py",
   "mimetype": "text/x-python",
   "name": "python",
   "nbconvert_exporter": "python",
   "pygments_lexer": "ipython3",
   "version": "3.13.4"
  }
 },
 "nbformat": 4,
 "nbformat_minor": 5
}
